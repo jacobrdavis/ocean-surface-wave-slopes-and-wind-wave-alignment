{
 "cells": [
  {
   "cell_type": "markdown",
   "metadata": {},
   "source": [
    "# Datasets"
   ]
  },
  {
   "cell_type": "markdown",
   "metadata": {},
   "source": [
    "Load the datasets used in the analysis for J. Davis et al. \"Ocean surface wave slopes and wind-wave alignment observed in Hurricane Idalia\".\n",
    "\n",
    "All data are available at the Dryad repository for this publication (https://doi.org/10.5061/dryad.zw3r228h7) and at the Dryad repository for Davis et al. (2023) (https://doi.org/10.5061/dryad.g4f4qrfvb). See `input_data/README.md`.\n",
    "\n",
    "Paths are saved in `config.toml`."
   ]
  },
  {
   "cell_type": "code",
   "execution_count": 1,
   "metadata": {},
   "outputs": [],
   "source": [
    "import pickle\n",
    "\n",
    "import numpy as np\n",
    "import pandas as pd\n",
    "import xarray as xr\n",
    "\n",
    "from configure import get_config\n",
    "from src import best_track, buoy_accessor, met"
   ]
  },
  {
   "cell_type": "markdown",
   "metadata": {},
   "source": [
    "# Setup"
   ]
  },
  {
   "cell_type": "markdown",
   "metadata": {},
   "source": [
    "Load the configuration file, `config.toml`, which contains the data directories."
   ]
  },
  {
   "cell_type": "code",
   "execution_count": 2,
   "metadata": {},
   "outputs": [],
   "source": [
    "config = get_config()"
   ]
  },
  {
   "cell_type": "markdown",
   "metadata": {},
   "source": [
    "Variables are shared across notebooks using the IPython \"magic\" commands `%store` to save variables and `%store -r` to read them.\n",
    "The following cell clears all stored variables."
   ]
  },
  {
   "cell_type": "code",
   "execution_count": 3,
   "metadata": {},
   "outputs": [],
   "source": [
    "%store -z"
   ]
  },
  {
   "cell_type": "markdown",
   "metadata": {},
   "source": [
    "## Analysis start and end time"
   ]
  },
  {
   "cell_type": "markdown",
   "metadata": {},
   "source": [
    "Define and store the time periods which will be used in the analysis. This includes a longer time period `time_slice_full` which will be used to trim the datasets to a period covering a day leading up to the storm and part of the day after the storm has passed, and `time_slice`, a 15-hour period centered on Idalia's point of closest approach to the buoy array."
   ]
  },
  {
   "cell_type": "code",
   "execution_count": 4,
   "metadata": {},
   "outputs": [
    {
     "name": "stdout",
     "output_type": "stream",
     "text": [
      "Stored 'time_slice_full' (slice)\n",
      "Stored 'time_slice_full_no_tz' (slice)\n"
     ]
    }
   ],
   "source": [
    "start_date = pd.Timestamp('2023-08-29T00:00', tz='utc')\n",
    "end_date = pd.Timestamp('2023-08-31T00:00', tz='utc')\n",
    "time_slice_full = slice(start_date, end_date)\n",
    "time_slice_full_no_tz = slice(start_date.tz_localize(None), end_date.tz_localize(None))\n",
    "\n",
    "%store time_slice_full\n",
    "%store time_slice_full_no_tz"
   ]
  },
  {
   "cell_type": "markdown",
   "metadata": {},
   "source": [
    "Define the shorter, 15-hour `time_slice` period."
   ]
  },
  {
   "cell_type": "code",
   "execution_count": 5,
   "metadata": {},
   "outputs": [
    {
     "name": "stdout",
     "output_type": "stream",
     "text": [
      "Stored 'time_slice' (slice)\n",
      "Stored 'time_slice_no_tz' (slice)\n"
     ]
    }
   ],
   "source": [
    "start_date = pd.Timestamp('2023-08-30T00:00', tz='utc')\n",
    "end_date = pd.Timestamp('2023-08-30T15:00', tz='utc')\n",
    "time_slice = slice(start_date, end_date)\n",
    "time_slice_no_tz = slice(start_date.tz_localize(None), end_date.tz_localize(None))\n",
    "\n",
    "%store time_slice\n",
    "%store time_slice_no_tz"
   ]
  },
  {
   "cell_type": "markdown",
   "metadata": {},
   "source": [
    "## Drifter dataset"
   ]
  },
  {
   "cell_type": "markdown",
   "metadata": {},
   "source": [
    "Load the microSWIFT and Spotter drifter datasets and concatenate them into a single DataFrame, `drifter_df`."
   ]
  },
  {
   "cell_type": "code",
   "execution_count": 6,
   "metadata": {},
   "outputs": [],
   "source": [
    "def concatenate_drifters(drifter_dict: dict) -> pd.DataFrame:\n",
    "    \"\"\"\n",
    "    Concatenate a dictionary of individual drifter DataFrames into a single,\n",
    "    multi-index DataFrame.  Drop the observations that do not contain waves\n",
    "    (remove off-hour pressure and temperature observations).\n",
    "\n",
    "    Args:\n",
    "        drifter_dict (dict): individual drifter DataFrames keyed by id.\n",
    "\n",
    "    Returns:\n",
    "        DataFrame: concatenated drifters\n",
    "    \"\"\"\n",
    "    drifter_df = (\n",
    "        pd.concat(drifter_dict, names=['id', 'time'])\n",
    "        .dropna(subset='energy_density')\n",
    "    )\n",
    "    return drifter_df"
   ]
  },
  {
   "cell_type": "code",
   "execution_count": 7,
   "metadata": {},
   "outputs": [
    {
     "name": "stdout",
     "output_type": "stream",
     "text": [
      "Stored 'drifter_df' (DataFrame)\n"
     ]
    }
   ],
   "source": [
    "DRIFTER_DATA_PATH = config['dir']['idalia_drifter_data']\n",
    "\n",
    "with open(DRIFTER_DATA_PATH, 'rb') as handle:\n",
    "    drifter_data = pickle.load(handle)\n",
    "\n",
    "# Concatenate the individual drifter DataFrames by type\n",
    "microswift_df = concatenate_drifters(drifter_data['microswift'])\n",
    "spotter_df = concatenate_drifters(drifter_data['spotter'])\n",
    "\n",
    "# Create a drifter type column\n",
    "microswift_df['drifter_type'] = 'microswift'\n",
    "spotter_df['drifter_type'] = 'spotter'\n",
    "\n",
    "# Combine all drifters into a single DataFrame.\n",
    "drifter_df = (pd.concat([microswift_df, spotter_df])\n",
    "              .sort_index(level=['id', 'time'], ascending=True)\n",
    "              .loc[(slice(None), time_slice_full), :])\n",
    "\n",
    "%store drifter_df"
   ]
  },
  {
   "cell_type": "code",
   "execution_count": 8,
   "metadata": {},
   "outputs": [
    {
     "data": {
      "text/plain": [
       "14"
      ]
     },
     "execution_count": 8,
     "metadata": {},
     "output_type": "execute_result"
    }
   ],
   "source": [
    "drifter_df.index.get_level_values('id').unique().size"
   ]
  },
  {
   "cell_type": "markdown",
   "metadata": {},
   "source": [
    "## COAMPS-TC"
   ]
  },
  {
   "cell_type": "markdown",
   "metadata": {},
   "source": [
    "Load the COAMPS-TC wind fields into a Dataset, `coamps_ds`."
   ]
  },
  {
   "cell_type": "code",
   "execution_count": 9,
   "metadata": {},
   "outputs": [
    {
     "name": "stdout",
     "output_type": "stream",
     "text": [
      "Stored 'coamps_ds' (Dataset)\n"
     ]
    }
   ],
   "source": [
    "COAMPS_PATH = config['dir']['coamps']\n",
    "coamps_ds = xr.open_dataset(COAMPS_PATH)\n",
    "coamps_ds = coamps_ds.rename(\n",
    "    {'lon': 'longitude',\n",
    "     'lat': 'latitude',\n",
    "     'wind_u': 'u',\n",
    "     'wind_v': 'v'})\n",
    "coamps_ds = coamps_ds.sel(time=time_slice_full_no_tz)\n",
    "coamps_ws =  np.sqrt(coamps_ds['u'].values**2 + coamps_ds['v'].values**2)\n",
    "coamps_ds['ws'] = (('time', 'latitude', 'longitude'), coamps_ws)\n",
    "\n",
    "%store coamps_ds"
   ]
  },
  {
   "cell_type": "markdown",
   "metadata": {},
   "source": [
    "## NHC"
   ]
  },
  {
   "cell_type": "markdown",
   "metadata": {},
   "source": [
    "Load National Hurricane Center shape files (for mapping)."
   ]
  },
  {
   "cell_type": "code",
   "execution_count": 10,
   "metadata": {},
   "outputs": [
    {
     "name": "stdout",
     "output_type": "stream",
     "text": [
      "Stored 'idalia_nhc_geometry' (tuple)\n"
     ]
    }
   ],
   "source": [
    "BEST_TRACK_DIRECTORY = config['dir']['best_track']\n",
    "idalia_pts = best_track.read_shp_file(BEST_TRACK_DIRECTORY + 'AL102023_pts.shp', index_by_datetime=True)\n",
    "idalia_lin = best_track.read_shp_file(BEST_TRACK_DIRECTORY + 'AL102023_lin.shp')\n",
    "idalia_radii = best_track.read_shp_file(BEST_TRACK_DIRECTORY + 'AL102023_radii.shp')\n",
    "idalia_windswath = best_track.read_shp_file(BEST_TRACK_DIRECTORY + 'AL102023_windswath.shp')\n",
    "\n",
    "idalia_pts = best_track.best_track_pts_to_intensity(idalia_pts)\n",
    "idalia_nhc_geometry = (idalia_pts, idalia_lin, idalia_windswath)\n",
    "\n",
    "%store idalia_nhc_geometry"
   ]
  },
  {
   "cell_type": "markdown",
   "metadata": {},
   "source": [
    "## SFMR"
   ]
  },
  {
   "cell_type": "markdown",
   "metadata": {},
   "source": [
    "Load Stepped Frequency Microwave Radiometer (SFMR) data for COAMPS-TC surface wind validation.  The SFMR is flown by both NOAA and the United States Air Force Reserve (USAFR) Weather Reconnaissance Squadron.\n",
    "\n",
    "Flight-level meterological datasets are available at: https://www.aoml.noaa.gov/2023-hurricane-field-program-data/#idalia"
   ]
  },
  {
   "cell_type": "code",
   "execution_count": 11,
   "metadata": {},
   "outputs": [],
   "source": [
    "#TODO: add SFMR to input data on dryad\n",
    "#TODO: update readmes"
   ]
  },
  {
   "cell_type": "code",
   "execution_count": 12,
   "metadata": {},
   "outputs": [
    {
     "ename": "FileNotFoundError",
     "evalue": "No files of type \"nc\" found in \"input_data/noaa_sfmr/\". Please double check the directory and file_type.",
     "output_type": "error",
     "traceback": [
      "\u001b[0;31m---------------------------------------------------------------------------\u001b[0m",
      "\u001b[0;31mFileNotFoundError\u001b[0m                         Traceback (most recent call last)",
      "Cell \u001b[0;32mIn[12], line 16\u001b[0m\n\u001b[1;32m      5\u001b[0m \u001b[38;5;66;03m#TODO: pitch and roll? Altitude?\u001b[39;00m\n\u001b[1;32m      6\u001b[0m noaa_met_rename_dict \u001b[38;5;241m=\u001b[39m {\n\u001b[1;32m      7\u001b[0m     \u001b[38;5;124m'\u001b[39m\u001b[38;5;124mTime\u001b[39m\u001b[38;5;124m'\u001b[39m: \u001b[38;5;124m'\u001b[39m\u001b[38;5;124mdatetime\u001b[39m\u001b[38;5;124m'\u001b[39m,\n\u001b[1;32m      8\u001b[0m     \u001b[38;5;124m'\u001b[39m\u001b[38;5;124mSfmrWS.1\u001b[39m\u001b[38;5;124m'\u001b[39m: \u001b[38;5;124m'\u001b[39m\u001b[38;5;124msfmr_10m_wind_speed\u001b[39m\u001b[38;5;124m'\u001b[39m,\n\u001b[0;32m   (...)\u001b[0m\n\u001b[1;32m     13\u001b[0m     \u001b[38;5;124m'\u001b[39m\u001b[38;5;124mLatGPS.1\u001b[39m\u001b[38;5;124m'\u001b[39m: \u001b[38;5;124m'\u001b[39m\u001b[38;5;124mlatitude\u001b[39m\u001b[38;5;124m'\u001b[39m,\n\u001b[1;32m     14\u001b[0m }\n\u001b[0;32m---> 16\u001b[0m noaa_sfmr_ds \u001b[38;5;241m=\u001b[39m \u001b[43mmet\u001b[49m\u001b[38;5;241;43m.\u001b[39;49m\u001b[43mread_noaa_met_directory\u001b[49m\u001b[43m(\u001b[49m\u001b[43mNOAA_SFMR_DIRECTORY\u001b[49m\u001b[43m,\u001b[49m\n\u001b[1;32m     17\u001b[0m \u001b[43m                                           \u001b[49m\u001b[43mdata_vars\u001b[49m\u001b[38;5;241;43m=\u001b[39;49m\u001b[43mnoaa_met_data_vars\u001b[49m\u001b[43m)\u001b[49m\n\u001b[1;32m     18\u001b[0m noaa_sfmr_ds \u001b[38;5;241m=\u001b[39m noaa_sfmr_ds\u001b[38;5;241m.\u001b[39mrename(noaa_met_rename_dict)\n\u001b[1;32m     20\u001b[0m get_ipython()\u001b[38;5;241m.\u001b[39mrun_line_magic(\u001b[38;5;124m'\u001b[39m\u001b[38;5;124mstore\u001b[39m\u001b[38;5;124m'\u001b[39m, \u001b[38;5;124m'\u001b[39m\u001b[38;5;124mnoaa_sfmr_ds\u001b[39m\u001b[38;5;124m'\u001b[39m)\n",
      "File \u001b[0;32m~/Dropbox/Projects/NHCI/code/ocean-surface-wave-slopes-and-wind-wave-alignment/src/met.py:230\u001b[0m, in \u001b[0;36mread_noaa_met_directory\u001b[0;34m(directory, file_type, data_vars, **concat_kwargs)\u001b[0m\n\u001b[1;32m    228\u001b[0m met \u001b[38;5;241m=\u001b[39m {}\n\u001b[1;32m    229\u001b[0m \u001b[38;5;28;01mif\u001b[39;00m \u001b[38;5;129;01mnot\u001b[39;00m met_files:\n\u001b[0;32m--> 230\u001b[0m     \u001b[38;5;28;01mraise\u001b[39;00m \u001b[38;5;167;01mFileNotFoundError\u001b[39;00m(\n\u001b[1;32m    231\u001b[0m         \u001b[38;5;124mf\u001b[39m\u001b[38;5;124m'\u001b[39m\u001b[38;5;124mNo files of type \u001b[39m\u001b[38;5;124m\"\u001b[39m\u001b[38;5;132;01m{\u001b[39;00mfile_type\u001b[38;5;132;01m}\u001b[39;00m\u001b[38;5;124m\"\u001b[39m\u001b[38;5;124m found in \u001b[39m\u001b[38;5;124m\"\u001b[39m\u001b[38;5;132;01m{\u001b[39;00mdirectory\u001b[38;5;132;01m}\u001b[39;00m\u001b[38;5;124m\"\u001b[39m\u001b[38;5;124m. \u001b[39m\u001b[38;5;124m'\u001b[39m\n\u001b[1;32m    232\u001b[0m         \u001b[38;5;124m'\u001b[39m\u001b[38;5;124mPlease double check the directory and file_type.\u001b[39m\u001b[38;5;124m'\u001b[39m)\n\u001b[1;32m    234\u001b[0m \u001b[38;5;28;01mfor\u001b[39;00m file \u001b[38;5;129;01min\u001b[39;00m met_files:\n\u001b[1;32m    235\u001b[0m     met_ds \u001b[38;5;241m=\u001b[39m read_noaa_met_file(file, data_vars)\n",
      "\u001b[0;31mFileNotFoundError\u001b[0m: No files of type \"nc\" found in \"input_data/noaa_sfmr/\". Please double check the directory and file_type."
     ]
    }
   ],
   "source": [
    "NOAA_SFMR_DIRECTORY = config['dir']['noaa_met_data']\n",
    "noaa_met_data_vars = [\n",
    "    'SfmrWS.1', 'SfmrWErr.1', 'SfmrRainRate.1', 'SfmrDV.1', 'LonGPS.1', 'LatGPS.1',\n",
    "]\n",
    "#TODO: pitch and roll? Altitude?\n",
    "noaa_met_rename_dict = {\n",
    "    'Time': 'datetime',\n",
    "    'SfmrWS.1': 'sfmr_10m_wind_speed',\n",
    "    'SfmrWErr.1': 'sfmr_10m_wind_speed_error',\n",
    "    'SfmrRainRate.1': 'sfmr_rain_rate',\n",
    "    'SfmrDV.1': 'sfmr_data_validity',\n",
    "    'LonGPS.1': 'longitude',\n",
    "    'LatGPS.1': 'latitude',\n",
    "}\n",
    "\n",
    "noaa_sfmr_ds = met.read_noaa_met_directory(NOAA_SFMR_DIRECTORY,\n",
    "                                           data_vars=noaa_met_data_vars)\n",
    "noaa_sfmr_ds = noaa_sfmr_ds.rename(noaa_met_rename_dict)\n",
    "\n",
    "%store noaa_sfmr_ds"
   ]
  },
  {
   "cell_type": "code",
   "execution_count": 26,
   "metadata": {},
   "outputs": [
    {
     "data": {
      "text/html": [
       "<div><svg style=\"position: absolute; width: 0; height: 0; overflow: hidden\">\n",
       "<defs>\n",
       "<symbol id=\"icon-database\" viewBox=\"0 0 32 32\">\n",
       "<path d=\"M16 0c-8.837 0-16 2.239-16 5v4c0 2.761 7.163 5 16 5s16-2.239 16-5v-4c0-2.761-7.163-5-16-5z\"></path>\n",
       "<path d=\"M16 17c-8.837 0-16-2.239-16-5v6c0 2.761 7.163 5 16 5s16-2.239 16-5v-6c0 2.761-7.163 5-16 5z\"></path>\n",
       "<path d=\"M16 26c-8.837 0-16-2.239-16-5v6c0 2.761 7.163 5 16 5s16-2.239 16-5v-6c0 2.761-7.163 5-16 5z\"></path>\n",
       "</symbol>\n",
       "<symbol id=\"icon-file-text2\" viewBox=\"0 0 32 32\">\n",
       "<path d=\"M28.681 7.159c-0.694-0.947-1.662-2.053-2.724-3.116s-2.169-2.030-3.116-2.724c-1.612-1.182-2.393-1.319-2.841-1.319h-15.5c-1.378 0-2.5 1.121-2.5 2.5v27c0 1.378 1.122 2.5 2.5 2.5h23c1.378 0 2.5-1.122 2.5-2.5v-19.5c0-0.448-0.137-1.23-1.319-2.841zM24.543 5.457c0.959 0.959 1.712 1.825 2.268 2.543h-4.811v-4.811c0.718 0.556 1.584 1.309 2.543 2.268zM28 29.5c0 0.271-0.229 0.5-0.5 0.5h-23c-0.271 0-0.5-0.229-0.5-0.5v-27c0-0.271 0.229-0.5 0.5-0.5 0 0 15.499-0 15.5 0v7c0 0.552 0.448 1 1 1h7v19.5z\"></path>\n",
       "<path d=\"M23 26h-14c-0.552 0-1-0.448-1-1s0.448-1 1-1h14c0.552 0 1 0.448 1 1s-0.448 1-1 1z\"></path>\n",
       "<path d=\"M23 22h-14c-0.552 0-1-0.448-1-1s0.448-1 1-1h14c0.552 0 1 0.448 1 1s-0.448 1-1 1z\"></path>\n",
       "<path d=\"M23 18h-14c-0.552 0-1-0.448-1-1s0.448-1 1-1h14c0.552 0 1 0.448 1 1s-0.448 1-1 1z\"></path>\n",
       "</symbol>\n",
       "</defs>\n",
       "</svg>\n",
       "<style>/* CSS stylesheet for displaying xarray objects in jupyterlab.\n",
       " *\n",
       " */\n",
       "\n",
       ":root {\n",
       "  --xr-font-color0: var(--jp-content-font-color0, rgba(0, 0, 0, 1));\n",
       "  --xr-font-color2: var(--jp-content-font-color2, rgba(0, 0, 0, 0.54));\n",
       "  --xr-font-color3: var(--jp-content-font-color3, rgba(0, 0, 0, 0.38));\n",
       "  --xr-border-color: var(--jp-border-color2, #e0e0e0);\n",
       "  --xr-disabled-color: var(--jp-layout-color3, #bdbdbd);\n",
       "  --xr-background-color: var(--jp-layout-color0, white);\n",
       "  --xr-background-color-row-even: var(--jp-layout-color1, white);\n",
       "  --xr-background-color-row-odd: var(--jp-layout-color2, #eeeeee);\n",
       "}\n",
       "\n",
       "html[theme=dark],\n",
       "body[data-theme=dark],\n",
       "body.vscode-dark {\n",
       "  --xr-font-color0: rgba(255, 255, 255, 1);\n",
       "  --xr-font-color2: rgba(255, 255, 255, 0.54);\n",
       "  --xr-font-color3: rgba(255, 255, 255, 0.38);\n",
       "  --xr-border-color: #1F1F1F;\n",
       "  --xr-disabled-color: #515151;\n",
       "  --xr-background-color: #111111;\n",
       "  --xr-background-color-row-even: #111111;\n",
       "  --xr-background-color-row-odd: #313131;\n",
       "}\n",
       "\n",
       ".xr-wrap {\n",
       "  display: block !important;\n",
       "  min-width: 300px;\n",
       "  max-width: 700px;\n",
       "}\n",
       "\n",
       ".xr-text-repr-fallback {\n",
       "  /* fallback to plain text repr when CSS is not injected (untrusted notebook) */\n",
       "  display: none;\n",
       "}\n",
       "\n",
       ".xr-header {\n",
       "  padding-top: 6px;\n",
       "  padding-bottom: 6px;\n",
       "  margin-bottom: 4px;\n",
       "  border-bottom: solid 1px var(--xr-border-color);\n",
       "}\n",
       "\n",
       ".xr-header > div,\n",
       ".xr-header > ul {\n",
       "  display: inline;\n",
       "  margin-top: 0;\n",
       "  margin-bottom: 0;\n",
       "}\n",
       "\n",
       ".xr-obj-type,\n",
       ".xr-array-name {\n",
       "  margin-left: 2px;\n",
       "  margin-right: 10px;\n",
       "}\n",
       "\n",
       ".xr-obj-type {\n",
       "  color: var(--xr-font-color2);\n",
       "}\n",
       "\n",
       ".xr-sections {\n",
       "  padding-left: 0 !important;\n",
       "  display: grid;\n",
       "  grid-template-columns: 150px auto auto 1fr 20px 20px;\n",
       "}\n",
       "\n",
       ".xr-section-item {\n",
       "  display: contents;\n",
       "}\n",
       "\n",
       ".xr-section-item input {\n",
       "  display: none;\n",
       "}\n",
       "\n",
       ".xr-section-item input + label {\n",
       "  color: var(--xr-disabled-color);\n",
       "}\n",
       "\n",
       ".xr-section-item input:enabled + label {\n",
       "  cursor: pointer;\n",
       "  color: var(--xr-font-color2);\n",
       "}\n",
       "\n",
       ".xr-section-item input:enabled + label:hover {\n",
       "  color: var(--xr-font-color0);\n",
       "}\n",
       "\n",
       ".xr-section-summary {\n",
       "  grid-column: 1;\n",
       "  color: var(--xr-font-color2);\n",
       "  font-weight: 500;\n",
       "}\n",
       "\n",
       ".xr-section-summary > span {\n",
       "  display: inline-block;\n",
       "  padding-left: 0.5em;\n",
       "}\n",
       "\n",
       ".xr-section-summary-in:disabled + label {\n",
       "  color: var(--xr-font-color2);\n",
       "}\n",
       "\n",
       ".xr-section-summary-in + label:before {\n",
       "  display: inline-block;\n",
       "  content: '►';\n",
       "  font-size: 11px;\n",
       "  width: 15px;\n",
       "  text-align: center;\n",
       "}\n",
       "\n",
       ".xr-section-summary-in:disabled + label:before {\n",
       "  color: var(--xr-disabled-color);\n",
       "}\n",
       "\n",
       ".xr-section-summary-in:checked + label:before {\n",
       "  content: '▼';\n",
       "}\n",
       "\n",
       ".xr-section-summary-in:checked + label > span {\n",
       "  display: none;\n",
       "}\n",
       "\n",
       ".xr-section-summary,\n",
       ".xr-section-inline-details {\n",
       "  padding-top: 4px;\n",
       "  padding-bottom: 4px;\n",
       "}\n",
       "\n",
       ".xr-section-inline-details {\n",
       "  grid-column: 2 / -1;\n",
       "}\n",
       "\n",
       ".xr-section-details {\n",
       "  display: none;\n",
       "  grid-column: 1 / -1;\n",
       "  margin-bottom: 5px;\n",
       "}\n",
       "\n",
       ".xr-section-summary-in:checked ~ .xr-section-details {\n",
       "  display: contents;\n",
       "}\n",
       "\n",
       ".xr-array-wrap {\n",
       "  grid-column: 1 / -1;\n",
       "  display: grid;\n",
       "  grid-template-columns: 20px auto;\n",
       "}\n",
       "\n",
       ".xr-array-wrap > label {\n",
       "  grid-column: 1;\n",
       "  vertical-align: top;\n",
       "}\n",
       "\n",
       ".xr-preview {\n",
       "  color: var(--xr-font-color3);\n",
       "}\n",
       "\n",
       ".xr-array-preview,\n",
       ".xr-array-data {\n",
       "  padding: 0 5px !important;\n",
       "  grid-column: 2;\n",
       "}\n",
       "\n",
       ".xr-array-data,\n",
       ".xr-array-in:checked ~ .xr-array-preview {\n",
       "  display: none;\n",
       "}\n",
       "\n",
       ".xr-array-in:checked ~ .xr-array-data,\n",
       ".xr-array-preview {\n",
       "  display: inline-block;\n",
       "}\n",
       "\n",
       ".xr-dim-list {\n",
       "  display: inline-block !important;\n",
       "  list-style: none;\n",
       "  padding: 0 !important;\n",
       "  margin: 0;\n",
       "}\n",
       "\n",
       ".xr-dim-list li {\n",
       "  display: inline-block;\n",
       "  padding: 0;\n",
       "  margin: 0;\n",
       "}\n",
       "\n",
       ".xr-dim-list:before {\n",
       "  content: '(';\n",
       "}\n",
       "\n",
       ".xr-dim-list:after {\n",
       "  content: ')';\n",
       "}\n",
       "\n",
       ".xr-dim-list li:not(:last-child):after {\n",
       "  content: ',';\n",
       "  padding-right: 5px;\n",
       "}\n",
       "\n",
       ".xr-has-index {\n",
       "  font-weight: bold;\n",
       "}\n",
       "\n",
       ".xr-var-list,\n",
       ".xr-var-item {\n",
       "  display: contents;\n",
       "}\n",
       "\n",
       ".xr-var-item > div,\n",
       ".xr-var-item label,\n",
       ".xr-var-item > .xr-var-name span {\n",
       "  background-color: var(--xr-background-color-row-even);\n",
       "  margin-bottom: 0;\n",
       "}\n",
       "\n",
       ".xr-var-item > .xr-var-name:hover span {\n",
       "  padding-right: 5px;\n",
       "}\n",
       "\n",
       ".xr-var-list > li:nth-child(odd) > div,\n",
       ".xr-var-list > li:nth-child(odd) > label,\n",
       ".xr-var-list > li:nth-child(odd) > .xr-var-name span {\n",
       "  background-color: var(--xr-background-color-row-odd);\n",
       "}\n",
       "\n",
       ".xr-var-name {\n",
       "  grid-column: 1;\n",
       "}\n",
       "\n",
       ".xr-var-dims {\n",
       "  grid-column: 2;\n",
       "}\n",
       "\n",
       ".xr-var-dtype {\n",
       "  grid-column: 3;\n",
       "  text-align: right;\n",
       "  color: var(--xr-font-color2);\n",
       "}\n",
       "\n",
       ".xr-var-preview {\n",
       "  grid-column: 4;\n",
       "}\n",
       "\n",
       ".xr-index-preview {\n",
       "  grid-column: 2 / 5;\n",
       "  color: var(--xr-font-color2);\n",
       "}\n",
       "\n",
       ".xr-var-name,\n",
       ".xr-var-dims,\n",
       ".xr-var-dtype,\n",
       ".xr-preview,\n",
       ".xr-attrs dt {\n",
       "  white-space: nowrap;\n",
       "  overflow: hidden;\n",
       "  text-overflow: ellipsis;\n",
       "  padding-right: 10px;\n",
       "}\n",
       "\n",
       ".xr-var-name:hover,\n",
       ".xr-var-dims:hover,\n",
       ".xr-var-dtype:hover,\n",
       ".xr-attrs dt:hover {\n",
       "  overflow: visible;\n",
       "  width: auto;\n",
       "  z-index: 1;\n",
       "}\n",
       "\n",
       ".xr-var-attrs,\n",
       ".xr-var-data,\n",
       ".xr-index-data {\n",
       "  display: none;\n",
       "  background-color: var(--xr-background-color) !important;\n",
       "  padding-bottom: 5px !important;\n",
       "}\n",
       "\n",
       ".xr-var-attrs-in:checked ~ .xr-var-attrs,\n",
       ".xr-var-data-in:checked ~ .xr-var-data,\n",
       ".xr-index-data-in:checked ~ .xr-index-data {\n",
       "  display: block;\n",
       "}\n",
       "\n",
       ".xr-var-data > table {\n",
       "  float: right;\n",
       "}\n",
       "\n",
       ".xr-var-name span,\n",
       ".xr-var-data,\n",
       ".xr-index-name div,\n",
       ".xr-index-data,\n",
       ".xr-attrs {\n",
       "  padding-left: 25px !important;\n",
       "}\n",
       "\n",
       ".xr-attrs,\n",
       ".xr-var-attrs,\n",
       ".xr-var-data,\n",
       ".xr-index-data {\n",
       "  grid-column: 1 / -1;\n",
       "}\n",
       "\n",
       "dl.xr-attrs {\n",
       "  padding: 0;\n",
       "  margin: 0;\n",
       "  display: grid;\n",
       "  grid-template-columns: 125px auto;\n",
       "}\n",
       "\n",
       ".xr-attrs dt,\n",
       ".xr-attrs dd {\n",
       "  padding: 0;\n",
       "  margin: 0;\n",
       "  float: left;\n",
       "  padding-right: 10px;\n",
       "  width: auto;\n",
       "}\n",
       "\n",
       ".xr-attrs dt {\n",
       "  font-weight: normal;\n",
       "  grid-column: 1;\n",
       "}\n",
       "\n",
       ".xr-attrs dt:hover span {\n",
       "  display: inline-block;\n",
       "  background: var(--xr-background-color);\n",
       "  padding-right: 10px;\n",
       "}\n",
       "\n",
       ".xr-attrs dd {\n",
       "  grid-column: 2;\n",
       "  white-space: pre-wrap;\n",
       "  word-break: break-all;\n",
       "}\n",
       "\n",
       ".xr-icon-database,\n",
       ".xr-icon-file-text2,\n",
       ".xr-no-icon {\n",
       "  display: inline-block;\n",
       "  vertical-align: middle;\n",
       "  width: 1em;\n",
       "  height: 1.5em !important;\n",
       "  stroke-width: 0;\n",
       "  stroke: currentColor;\n",
       "  fill: currentColor;\n",
       "}\n",
       "</style><pre class='xr-text-repr-fallback'>&lt;xarray.Dataset&gt;\n",
       "Dimensions:              (datetime: 92430)\n",
       "Coordinates:\n",
       "  * datetime             (datetime) datetime64[ns] 2023-08-29T18:23:56 ... 20...\n",
       "Data variables:\n",
       "    sfmr_10m_wind_speed  (datetime) int64 0 0 0 0 0 0 0 ... 78 78 78 78 78 78 78\n",
       "    sfmr_rain_rate       (datetime) int64 0 0 0 0 0 0 0 0 0 ... 0 0 0 0 0 0 0 0\n",
       "    longitude            (datetime) float64 -88.92 -88.92 ... -82.71 -82.71\n",
       "    latitude             (datetime) float64 30.41 30.41 30.41 ... 32.6 32.6 32.6\n",
       "Attributes:\n",
       "    information:   [&#x27;Export of 1-second Data for 1110A IDALIA at 02:39:26 on ...\n",
       "    ARWO Version:  [&#x27;19.2.15.1&#x27;, &#x27;19.2.15.1&#x27;, &#x27;20.2.13.38&#x27;]\n",
       "    File Version:  [&#x27;6&#x27;, &#x27;6&#x27;, &#x27;6&#x27;]\n",
       "    Tail Number:   [&#x27;5304&#x27;, &#x27;5305&#x27;, &#x27;5300&#x27;]\n",
       "    filename:      [&#x27;20230829U1.01.txt&#x27;, &#x27;20230830U1.01.txt&#x27;, &#x27;20230831U1.01....</pre><div class='xr-wrap' style='display:none'><div class='xr-header'><div class='xr-obj-type'>xarray.Dataset</div></div><ul class='xr-sections'><li class='xr-section-item'><input id='section-828e3b90-39ce-4992-8034-b0790d065075' class='xr-section-summary-in' type='checkbox' disabled ><label for='section-828e3b90-39ce-4992-8034-b0790d065075' class='xr-section-summary'  title='Expand/collapse section'>Dimensions:</label><div class='xr-section-inline-details'><ul class='xr-dim-list'><li><span class='xr-has-index'>datetime</span>: 92430</li></ul></div><div class='xr-section-details'></div></li><li class='xr-section-item'><input id='section-0df5965d-2824-4705-8c0b-6d27af011a80' class='xr-section-summary-in' type='checkbox'  checked><label for='section-0df5965d-2824-4705-8c0b-6d27af011a80' class='xr-section-summary' >Coordinates: <span>(1)</span></label><div class='xr-section-inline-details'></div><div class='xr-section-details'><ul class='xr-var-list'><li class='xr-var-item'><div class='xr-var-name'><span class='xr-has-index'>datetime</span></div><div class='xr-var-dims'>(datetime)</div><div class='xr-var-dtype'>datetime64[ns]</div><div class='xr-var-preview xr-preview'>2023-08-29T18:23:56 ... 2023-08-...</div><input id='attrs-791a623d-6874-40a3-934f-c78519980a56' class='xr-var-attrs-in' type='checkbox' disabled><label for='attrs-791a623d-6874-40a3-934f-c78519980a56' title='Show/Hide attributes'><svg class='icon xr-icon-file-text2'><use xlink:href='#icon-file-text2'></use></svg></label><input id='data-16ff9d8f-5391-480b-958d-75620db729ba' class='xr-var-data-in' type='checkbox'><label for='data-16ff9d8f-5391-480b-958d-75620db729ba' title='Show/Hide data repr'><svg class='icon xr-icon-database'><use xlink:href='#icon-database'></use></svg></label><div class='xr-var-attrs'><dl class='xr-attrs'></dl></div><div class='xr-var-data'><pre>array([&#x27;2023-08-29T18:23:56.000000000&#x27;, &#x27;2023-08-29T18:23:57.000000000&#x27;,\n",
       "       &#x27;2023-08-29T18:23:58.000000000&#x27;, ..., &#x27;2023-08-31T18:07:49.000000000&#x27;,\n",
       "       &#x27;2023-08-31T18:07:50.000000000&#x27;, &#x27;2023-08-31T18:07:51.000000000&#x27;],\n",
       "      dtype=&#x27;datetime64[ns]&#x27;)</pre></div></li></ul></div></li><li class='xr-section-item'><input id='section-64e99962-f72b-4179-ab7f-912f5e1de4bf' class='xr-section-summary-in' type='checkbox'  checked><label for='section-64e99962-f72b-4179-ab7f-912f5e1de4bf' class='xr-section-summary' >Data variables: <span>(4)</span></label><div class='xr-section-inline-details'></div><div class='xr-section-details'><ul class='xr-var-list'><li class='xr-var-item'><div class='xr-var-name'><span>sfmr_10m_wind_speed</span></div><div class='xr-var-dims'>(datetime)</div><div class='xr-var-dtype'>int64</div><div class='xr-var-preview xr-preview'>0 0 0 0 0 0 0 ... 78 78 78 78 78 78</div><input id='attrs-2081c619-1ab9-485e-b419-d573c883e915' class='xr-var-attrs-in' type='checkbox' ><label for='attrs-2081c619-1ab9-485e-b419-d573c883e915' title='Show/Hide attributes'><svg class='icon xr-icon-file-text2'><use xlink:href='#icon-file-text2'></use></svg></label><input id='data-e81a8a97-cc85-4925-af98-cfcfec5deb60' class='xr-var-data-in' type='checkbox'><label for='data-e81a8a97-cc85-4925-af98-cfcfec5deb60' title='Show/Hide data repr'><svg class='icon xr-icon-database'><use xlink:href='#icon-database'></use></svg></label><div class='xr-var-attrs'><dl class='xr-attrs'><dt><span>Description :</span></dt><dd>[&#x27;Surface Wind Speed (SFMR)&#x27;]</dd><dt><span>Units :</span></dt><dd>[&#x27;knots&#x27;]</dd></dl></div><div class='xr-var-data'><pre>array([ 0,  0,  0, ..., 78, 78, 78])</pre></div></li><li class='xr-var-item'><div class='xr-var-name'><span>sfmr_rain_rate</span></div><div class='xr-var-dims'>(datetime)</div><div class='xr-var-dtype'>int64</div><div class='xr-var-preview xr-preview'>0 0 0 0 0 0 0 0 ... 0 0 0 0 0 0 0 0</div><input id='attrs-0d1ab68b-786b-4936-815d-81986635b8e1' class='xr-var-attrs-in' type='checkbox' ><label for='attrs-0d1ab68b-786b-4936-815d-81986635b8e1' title='Show/Hide attributes'><svg class='icon xr-icon-file-text2'><use xlink:href='#icon-file-text2'></use></svg></label><input id='data-dc4da956-04ea-42a2-aec3-eb495c21dfea' class='xr-var-data-in' type='checkbox'><label for='data-dc4da956-04ea-42a2-aec3-eb495c21dfea' title='Show/Hide data repr'><svg class='icon xr-icon-database'><use xlink:href='#icon-database'></use></svg></label><div class='xr-var-attrs'><dl class='xr-attrs'><dt><span>Description :</span></dt><dd>[&#x27;Rain Rate (SFMR)&#x27;]</dd><dt><span>Units :</span></dt><dd>[&#x27;mm/hr&#x27;]</dd></dl></div><div class='xr-var-data'><pre>array([0, 0, 0, ..., 0, 0, 0])</pre></div></li><li class='xr-var-item'><div class='xr-var-name'><span>longitude</span></div><div class='xr-var-dims'>(datetime)</div><div class='xr-var-dtype'>float64</div><div class='xr-var-preview xr-preview'>-88.92 -88.92 ... -82.71 -82.71</div><input id='attrs-fbec7cbf-21aa-44a7-8a5e-0ebf66ed9a93' class='xr-var-attrs-in' type='checkbox' ><label for='attrs-fbec7cbf-21aa-44a7-8a5e-0ebf66ed9a93' title='Show/Hide attributes'><svg class='icon xr-icon-file-text2'><use xlink:href='#icon-file-text2'></use></svg></label><input id='data-5c0e05e4-33d1-4276-aa85-e5a876b61bcb' class='xr-var-data-in' type='checkbox'><label for='data-5c0e05e4-33d1-4276-aa85-e5a876b61bcb' title='Show/Hide data repr'><svg class='icon xr-icon-database'><use xlink:href='#icon-database'></use></svg></label><div class='xr-var-attrs'><dl class='xr-attrs'><dt><span>Description :</span></dt><dd>[&#x27;Longitude&#x27;]</dd><dt><span>Units :</span></dt><dd>[&#x27;degrees&#x27;]</dd></dl></div><div class='xr-var-data'><pre>array([-88.92, -88.92, -88.92, ..., -82.7 , -82.71, -82.71])</pre></div></li><li class='xr-var-item'><div class='xr-var-name'><span>latitude</span></div><div class='xr-var-dims'>(datetime)</div><div class='xr-var-dtype'>float64</div><div class='xr-var-preview xr-preview'>30.41 30.41 30.41 ... 32.6 32.6</div><input id='attrs-f0e4a1d1-067e-498c-8cc2-d95616d55596' class='xr-var-attrs-in' type='checkbox' ><label for='attrs-f0e4a1d1-067e-498c-8cc2-d95616d55596' title='Show/Hide attributes'><svg class='icon xr-icon-file-text2'><use xlink:href='#icon-file-text2'></use></svg></label><input id='data-bd6b921c-1b49-4bb3-bf12-a88dd589e395' class='xr-var-data-in' type='checkbox'><label for='data-bd6b921c-1b49-4bb3-bf12-a88dd589e395' title='Show/Hide data repr'><svg class='icon xr-icon-database'><use xlink:href='#icon-database'></use></svg></label><div class='xr-var-attrs'><dl class='xr-attrs'><dt><span>Description :</span></dt><dd>[&#x27;Latitude&#x27;]</dd><dt><span>Units :</span></dt><dd>[&#x27;degrees&#x27;]</dd></dl></div><div class='xr-var-data'><pre>array([30.41, 30.41, 30.41, ..., 32.6 , 32.6 , 32.6 ])</pre></div></li></ul></div></li><li class='xr-section-item'><input id='section-107e0ff2-3639-491c-bd2a-053ac382dfdc' class='xr-section-summary-in' type='checkbox'  ><label for='section-107e0ff2-3639-491c-bd2a-053ac382dfdc' class='xr-section-summary' >Indexes: <span>(1)</span></label><div class='xr-section-inline-details'></div><div class='xr-section-details'><ul class='xr-var-list'><li class='xr-var-item'><div class='xr-index-name'><div>datetime</div></div><div class='xr-index-preview'>PandasIndex</div><div></div><input id='index-8305781a-72ce-40f3-9f0b-4ca4a8c33c81' class='xr-index-data-in' type='checkbox'/><label for='index-8305781a-72ce-40f3-9f0b-4ca4a8c33c81' title='Show/Hide index repr'><svg class='icon xr-icon-database'><use xlink:href='#icon-database'></use></svg></label><div class='xr-index-data'><pre>PandasIndex(DatetimeIndex([&#x27;2023-08-29 18:23:56&#x27;, &#x27;2023-08-29 18:23:57&#x27;,\n",
       "               &#x27;2023-08-29 18:23:58&#x27;, &#x27;2023-08-29 18:23:59&#x27;,\n",
       "               &#x27;2023-08-29 18:24:00&#x27;, &#x27;2023-08-29 18:24:07&#x27;,\n",
       "               &#x27;2023-08-29 18:24:08&#x27;, &#x27;2023-08-29 18:24:09&#x27;,\n",
       "               &#x27;2023-08-29 18:24:10&#x27;, &#x27;2023-08-29 18:24:11&#x27;,\n",
       "               ...\n",
       "               &#x27;2023-08-31 18:07:42&#x27;, &#x27;2023-08-31 18:07:43&#x27;,\n",
       "               &#x27;2023-08-31 18:07:44&#x27;, &#x27;2023-08-31 18:07:45&#x27;,\n",
       "               &#x27;2023-08-31 18:07:46&#x27;, &#x27;2023-08-31 18:07:47&#x27;,\n",
       "               &#x27;2023-08-31 18:07:48&#x27;, &#x27;2023-08-31 18:07:49&#x27;,\n",
       "               &#x27;2023-08-31 18:07:50&#x27;, &#x27;2023-08-31 18:07:51&#x27;],\n",
       "              dtype=&#x27;datetime64[ns]&#x27;, name=&#x27;datetime&#x27;, length=92430, freq=None))</pre></div></li></ul></div></li><li class='xr-section-item'><input id='section-0df02a0b-0506-4c8f-8657-24c1e3d1534a' class='xr-section-summary-in' type='checkbox'  checked><label for='section-0df02a0b-0506-4c8f-8657-24c1e3d1534a' class='xr-section-summary' >Attributes: <span>(5)</span></label><div class='xr-section-inline-details'></div><div class='xr-section-details'><dl class='xr-attrs'><dt><span>information :</span></dt><dd>[&#x27;Export of 1-second Data for 1110A IDALIA at 02:39:26 on 08/30/2023\\n&#x27;, &#x27;Export of 1-second Data for 1310A IDALIA at 14:09:19 on 09/22/2023\\n&#x27;, &#x27;Export of 1-second Data for 1410A IDALIA at 18:08:40 on 08/31/2023\\n&#x27;]</dd><dt><span>ARWO Version :</span></dt><dd>[&#x27;19.2.15.1&#x27;, &#x27;19.2.15.1&#x27;, &#x27;20.2.13.38&#x27;]</dd><dt><span>File Version :</span></dt><dd>[&#x27;6&#x27;, &#x27;6&#x27;, &#x27;6&#x27;]</dd><dt><span>Tail Number :</span></dt><dd>[&#x27;5304&#x27;, &#x27;5305&#x27;, &#x27;5300&#x27;]</dd><dt><span>filename :</span></dt><dd>[&#x27;20230829U1.01.txt&#x27;, &#x27;20230830U1.01.txt&#x27;, &#x27;20230831U1.01.txt&#x27;]</dd></dl></div></li></ul></div></div>"
      ],
      "text/plain": [
       "<xarray.Dataset>\n",
       "Dimensions:              (datetime: 92430)\n",
       "Coordinates:\n",
       "  * datetime             (datetime) datetime64[ns] 2023-08-29T18:23:56 ... 20...\n",
       "Data variables:\n",
       "    sfmr_10m_wind_speed  (datetime) int64 0 0 0 0 0 0 0 ... 78 78 78 78 78 78 78\n",
       "    sfmr_rain_rate       (datetime) int64 0 0 0 0 0 0 0 0 0 ... 0 0 0 0 0 0 0 0\n",
       "    longitude            (datetime) float64 -88.92 -88.92 ... -82.71 -82.71\n",
       "    latitude             (datetime) float64 30.41 30.41 30.41 ... 32.6 32.6 32.6\n",
       "Attributes:\n",
       "    information:   ['Export of 1-second Data for 1110A IDALIA at 02:39:26 on ...\n",
       "    ARWO Version:  ['19.2.15.1', '19.2.15.1', '20.2.13.38']\n",
       "    File Version:  ['6', '6', '6']\n",
       "    Tail Number:   ['5304', '5305', '5300']\n",
       "    filename:      ['20230829U1.01.txt', '20230830U1.01.txt', '20230831U1.01...."
      ]
     },
     "execution_count": 26,
     "metadata": {},
     "output_type": "execute_result"
    }
   ],
   "source": [
    "USAFR_SFMR_DIRECTORY = config['dir']['usafr_met_data']\n",
    "usafr_met_data_vars = [\n",
    "    # 'SWS', 'WSPD', 'WDIR', 'RR', 'LON', 'LAT',\n",
    "    'SWS', 'RR', 'LON', 'LAT',\n",
    "]\n",
    "#TODO: pitch and roll? Altitude?\n",
    "usafr_met_rename_dict = {\n",
    "    'GMT_Time': 'datetime',\n",
    "    'SWS': 'sfmr_10m_wind_speed',\n",
    "    # 'WSPD': 'flight_level_wind_speed',\n",
    "    # 'WDIR': 'flight_level_wind_direction',\n",
    "    'RR': 'sfmr_rain_rate',\n",
    "    'LON': 'longitude',\n",
    "    'LAT': 'latitude',\n",
    "}\n",
    "\n",
    "usafr_sfmr_ds = met.read_usafr_met_directory(USAFR_SFMR_DIRECTORY,\n",
    "                                            data_vars=usafr_met_data_vars,\n",
    "                                            data_type='xarray')\n",
    "usafr_sfmr_ds = usafr_sfmr_ds.rename(usafr_met_rename_dict)\n",
    "\n",
    "%store usafr_sfmr_ds"
   ]
  },
  {
   "cell_type": "markdown",
   "metadata": {},
   "source": [
    "## IBTrACS"
   ]
  },
  {
   "cell_type": "markdown",
   "metadata": {},
   "source": [
    "Load the International Best Track Archive for Climate Stewardship (IBTrACS) dataset which is used for storm positions and meterological metrics (Knapp et al., 2010; Gahtan et al., 2024).  The dataset is read into Pandas directly from the server.  The dataset is also available at: https://www.ncei.noaa.gov/products/international-best-track-archive.\n"
   ]
  },
  {
   "cell_type": "code",
   "execution_count": 11,
   "metadata": {},
   "outputs": [
    {
     "name": "stdout",
     "output_type": "stream",
     "text": [
      "Stored 'ibtracs_df' (DataFrame)\n"
     ]
    }
   ],
   "source": [
    "IBTRACS_PATH = config['dir']['ibtracs']\n",
    "ibtracs_df = pd.read_csv(IBTRACS_PATH, low_memory=False)\n",
    "ibtracs_df = (ibtracs_df\n",
    "    .query('NAME == \"IDALIA\"')\n",
    "    .query('SEASON == \"2023\"')\n",
    "    .assign(ISO_TIME = lambda df: pd.to_datetime(df['ISO_TIME'], utc=True))\n",
    "    .set_index('ISO_TIME', drop=True)\n",
    "    .assign(LAT = lambda df: df['LAT'].astype(np.float64))\n",
    "    .assign(LON = lambda df: df['LON'].astype(np.float64))\n",
    ")\n",
    "\n",
    "%store ibtracs_df"
   ]
  },
  {
   "cell_type": "markdown",
   "metadata": {},
   "source": [
    "## GEBCO Bathymetry\n",
    "\n",
    "Load bathymetry data for the region containing the buoys (GEBCO Bathymetric Compilation Group, 2023).  The dataset is available at: https://www.gebco.net/data_and_products/gridded_bathymetry_data/.\n",
    "\n"
   ]
  },
  {
   "cell_type": "code",
   "execution_count": 12,
   "metadata": {},
   "outputs": [
    {
     "name": "stdout",
     "output_type": "stream",
     "text": [
      "Stored 'bathymetry_ds' (Dataset)\n"
     ]
    }
   ],
   "source": [
    "GEBCO_PATH = config['dir']['gebco']\n",
    "bathymetry_ds = xr.load_dataset(GEBCO_PATH)\n",
    "\n",
    "%store bathymetry_ds"
   ]
  },
  {
   "cell_type": "markdown",
   "metadata": {},
   "source": [
    "## Ian and Fiona from Davis et al. (2023)"
   ]
  },
  {
   "cell_type": "markdown",
   "metadata": {},
   "source": [
    "Load data from Davis et al. (2023) \"Saturation of Ocean Surface Wave Slopes Observed During Hurricanes\".\n",
    "\n",
    "The datasets can be downloaded at: https://doi.org/10.5061/dryad.g4f4qrfvb"
   ]
  },
  {
   "cell_type": "code",
   "execution_count": 13,
   "metadata": {},
   "outputs": [],
   "source": [
    "def rename_davis_data(drifter_df):\n",
    "    drifter_df = (drifter_df\n",
    "        .rename({\n",
    "            'spotter_id': 'id',\n",
    "            'mean_square_slope_unadjusted': 'mean_square_slope_observed',\n",
    "            'COAMPS_10m_wind_speed': 'wind_speed',\n",
    "            'COAMPS_10m_wind_speed_u': 'wind_speed_u',\n",
    "            'COAMPS_10m_wind_speed_v': 'wind_speed_v',\n",
    "        }, axis=1)\n",
    "        .set_index(['id', 'time'])\n",
    "    )\n",
    "    return drifter_df\n"
   ]
  },
  {
   "cell_type": "code",
   "execution_count": 14,
   "metadata": {},
   "outputs": [
    {
     "name": "stdout",
     "output_type": "stream",
     "text": [
      "Stored 'ian_spotter_coamps_df' (DataFrame)\n",
      "Stored 'fiona_spotter_coamps_df' (DataFrame)\n"
     ]
    }
   ],
   "source": [
    "IAN_PATH = config['dir']['ian_drifter_data']\n",
    "FIONA_PATH = config['dir']['fiona_drifter_data']\n",
    "\n",
    "# Read the data into a pandas.DataFrame and convert the entries in the\n",
    "# 'time' column to datetimes.\n",
    "ian_spotter_coamps_df = pd.read_json(IAN_PATH, convert_dates=['time'])\n",
    "fiona_spotter_coamps_df = pd.read_json(FIONA_PATH, convert_dates=['time'])\n",
    "\n",
    "# Rename variables for consistency\n",
    "ian_spotter_coamps_df = rename_davis_data(ian_spotter_coamps_df)\n",
    "fiona_spotter_coamps_df = rename_davis_data(fiona_spotter_coamps_df)\n",
    "\n",
    "# Map spectral variables to arrays\n",
    "spectral_cols = ian_spotter_coamps_df.buoy.spectral_variables\n",
    "ian_spotter_coamps_df.loc[:, spectral_cols] = ian_spotter_coamps_df[spectral_cols].map(np.array)\n",
    "spectral_cols = fiona_spotter_coamps_df.buoy.spectral_variables\n",
    "fiona_spotter_coamps_df.loc[:, spectral_cols] = fiona_spotter_coamps_df[spectral_cols].map(np.array)\n",
    "\n",
    "%store ian_spotter_coamps_df\n",
    "%store fiona_spotter_coamps_df"
   ]
  },
  {
   "cell_type": "markdown",
   "metadata": {},
   "source": [
    "## References\n",
    "\n",
    "Davis, J. R., Thomson, J., Houghton, I. A., Doyle, J. D., Komaromi, W. A., Fairall, C. W., Thompson, E. J., & Moskaitis, J. R. (2023). Saturation of Ocean Surface Wave Slopes Observed During Hurricanes. Geophysical Research Letters, 50(16), e2023GL104139. https://doi.org/10.1029/2023GL104139\n",
    "\n",
    "Gahtan, J., Knapp, K. R., Schreck, C. J. I., Diamond, H. J., Kossin, J. P., & Kruk, M. C. (2024). International Best Track Archive for Climate Stewardship (IBTrACS) Project (Version 4.01 (Last 3 years)) [Dataset]. NOAA National Centers for Environmental Information. https://doi.org/doi:10.25921/82ty-9e16\n",
    "\n",
    "GEBCO Bathymetric Compilation Group 2023. (2023). The GEBCO_2023 Grid—A continuous terrain model of the global oceans and land. [Dataset]. NERC EDS British Oceanographic Data Centre NOC. https://doi.org/10.5285/f98b053b-0cbc-6c23-e053-6c86abc0af7b\n",
    "\n",
    "Knapp, K. R., Kruk, M. C., Levinson, D. H., Diamond, H. J., & Neumann, C. J. (2010). The International Best Track Archive for Climate Stewardship (IBTrACS): Unifying Tropical Cyclone Data. Bulletin of the American Meteorological Society, 91(3), 363–376. https://doi.org/10.1175/2009BAMS2755.1\n"
   ]
  }
 ],
 "metadata": {
  "kernelspec": {
   "display_name": "ocean-surface-wave-slopes-and-wind-wave-alignment",
   "language": "python",
   "name": "python3"
  },
  "language_info": {
   "codemirror_mode": {
    "name": "ipython",
    "version": 3
   },
   "file_extension": ".py",
   "mimetype": "text/x-python",
   "name": "python",
   "nbconvert_exporter": "python",
   "pygments_lexer": "ipython3",
   "version": "3.12.3"
  },
  "orig_nbformat": 4
 },
 "nbformat": 4,
 "nbformat_minor": 2
}
